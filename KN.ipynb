{
 "cells": [
  {
   "cell_type": "markdown",
   "metadata": {},
   "source": [
    "Train and Validate Model for Breast Cancer Diagnosis using K-n.\n",
    "\n",
    "The dataset used for this analysis is the Breast Cancer Wisconsin (Diagnostic) dataset, which can be found at the following link:\n",
    "[Breast Cancer Wisconsin (Diagnostic) Data Set](http://archive.ics.uci.edu/dataset/17/breast+cancer+wisconsin+diagnostic)"
   ]
  },
  {
   "cell_type": "code",
   "execution_count": 1,
   "metadata": {},
   "outputs": [],
   "source": [
    "import numpy as np\n",
    "from sklearn.model_selection import train_test_split\n",
    "from sklearn.neighbors import KNeighborsClassifier\n",
    "from sklearn.metrics import accuracy_score, classification_report\n",
    "from sklearn.preprocessing import StandardScaler\n",
    "import pandas as pd\n",
    "\n",
    "from sklearn.decomposition import PCA\n",
    "from sklearn.model_selection import GridSearchCV"
   ]
  },
  {
   "cell_type": "code",
   "execution_count": null,
   "metadata": {},
   "outputs": [],
   "source": [
    "# data = pd.read_csv('dataSetE4/wdbc.data')\n",
    "# print(data)"
   ]
  },
  {
   "cell_type": "code",
   "execution_count": 2,
   "metadata": {},
   "outputs": [],
   "source": [
    "columnNames = [\n",
    "    'ID', 'Diagnosis', 'Radius Mean', 'Texture Mean', 'Perimeter Mean', 'Area Mean', 'Smoothness Mean', \n",
    "    'Compactness Mean', 'Concavity Mean', 'Concave Points Mean', 'Symmetry Mean', 'Fractal Dimension Mean', \n",
    "    'Radius SE', 'Texture SE', 'Perimeter SE', 'Area SE', 'Smoothness SE', 'Compactness SE', 'Concavity SE', \n",
    "    'Concave Points SE', 'Symmetry SE', 'Fractal Dimension SE', 'Radius Worst', 'Texture Worst', \n",
    "    'Perimeter Worst', 'Area Worst', 'Smoothness Worst', 'Compactness Worst', 'Concavity Worst', \n",
    "    'Concave Points Worst', 'Symmetry Worst', 'Fractal Dimension Worst'\n",
    "]\n",
    "\n",
    "data = pd.read_csv('dataSetE4/wdbc.data', header=None, names=columnNames)"
   ]
  },
  {
   "cell_type": "code",
   "execution_count": 3,
   "metadata": {},
   "outputs": [],
   "source": [
    "data.drop('ID', axis=1, inplace=True)\n",
    "data['Diagnosis'] = data['Diagnosis'].map({'M': 1, 'B': 0}) # Malignant = 1, Benign = 0\n",
    "\n",
    "X = data.drop('Diagnosis', axis=1)\n",
    "y = data['Diagnosis']\n",
    "\n",
    "X_train, X_test, y_train, y_test = train_test_split(X, y, test_size=0.3, random_state=42, stratify=y)\n",
    "\n",
    "scaler = StandardScaler()\n",
    "X_train = scaler.fit_transform(X_train)\n",
    "X_test = scaler.transform(X_test)"
   ]
  },
  {
   "cell_type": "code",
   "execution_count": null,
   "metadata": {},
   "outputs": [],
   "source": [
    "data.drop('ID', axis=1, inplace=True)\n",
    "data['Diagnosis'] = data['Diagnosis'].map({'M': 1, 'B': 0})  # Malignant = 1, Benign = 0\n",
    "\n",
    "X = data.drop('Diagnosis', axis=1)\n",
    "y = data['Diagnosis']\n",
    "\n",
    "scaler = StandardScaler()\n",
    "X_scaled = scaler.fit_transform(X)\n",
    "\n",
    "pca = PCA(n_components=0.95, random_state=42)\n",
    "X_pca = pca.fit_transform(X_scaled)\n",
    "\n",
    "X_train, X_test, y_train, y_test = train_test_split(X_pca, y, test_size=0.3, random_state=42, stratify=y)\n",
    "\n",
    "print(\"Explained variance by each principal component:\\n\", pca.explained_variance_ratio_)\n",
    "print(\"Number of principal components selected:\", pca.n_components_)"
   ]
  },
  {
   "cell_type": "markdown",
   "metadata": {},
   "source": [
    "## Fit"
   ]
  },
  {
   "cell_type": "code",
   "execution_count": 4,
   "metadata": {},
   "outputs": [
    {
     "name": "stdout",
     "output_type": "stream",
     "text": [
      "{'metric': 'manhattan', 'n_neighbors': np.int64(5), 'weights': 'uniform'}\n",
      "\n",
      "Evaluation of the Best k-NN Model\n",
      "\n",
      "Classification Report:\n",
      "               precision    recall  f1-score   support\n",
      "\n",
      "      Benign       0.96      1.00      0.98       107\n",
      "   Malignant       1.00      0.92      0.96        64\n",
      "\n",
      "    accuracy                           0.97       171\n",
      "   macro avg       0.98      0.96      0.97       171\n",
      "weighted avg       0.97      0.97      0.97       171\n",
      "\n",
      "\n",
      "Accuracy: 0.9708\n"
     ]
    }
   ],
   "source": [
    "np.seterr(invalid='ignore') \n",
    "paramGrid = {\n",
    "    'n_neighbors': np.arange(1, 31),\n",
    "    'weights': ['uniform', 'distance'],\n",
    "    'metric': ['euclidean', 'manhattan', 'minkowski']\n",
    "}\n",
    "\n",
    "gridSearch = GridSearchCV(KNeighborsClassifier(), paramGrid, cv=5, scoring='accuracy')\n",
    "gridSearch.fit(X_train, y_train)\n",
    "\n",
    "bestParams = gridSearch.best_params_\n",
    "print(f'{bestParams}')\n",
    "\n",
    "bestKnnModel = KNeighborsClassifier(**bestParams)\n",
    "bestKnnModel.fit(X_train, y_train)\n",
    "\n",
    "yPredBest = bestKnnModel.predict(X_test)\n",
    "accuracyBest = accuracy_score(y_test, yPredBest)\n",
    "classificationRepBest = classification_report(y_test, yPredBest, target_names=['Benign', 'Malignant'])\n",
    "\n",
    "print(f'\\nEvaluation of the Best k-NN Model')\n",
    "print('\\nClassification Report:\\n', classificationRepBest)\n",
    "print(f'\\nAccuracy: {accuracyBest:.4f}')"
   ]
  }
 ],
 "metadata": {
  "kernelspec": {
   "display_name": ".venv",
   "language": "python",
   "name": "python3"
  },
  "language_info": {
   "codemirror_mode": {
    "name": "ipython",
    "version": 3
   },
   "file_extension": ".py",
   "mimetype": "text/x-python",
   "name": "python",
   "nbconvert_exporter": "python",
   "pygments_lexer": "ipython3",
   "version": "3.12.7"
  }
 },
 "nbformat": 4,
 "nbformat_minor": 2
}
